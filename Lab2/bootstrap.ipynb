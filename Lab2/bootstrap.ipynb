{
  "nbformat": 4,
  "nbformat_minor": 0,
  "metadata": {
    "colab": {
      "name": "Copie a blocnotesului Lab2_bootstrap.ipynb",
      "provenance": [],
      "collapsed_sections": [],
      "include_colab_link": true
    },
    "kernelspec": {
      "display_name": "Python 3",
      "language": "python",
      "name": "python3"
    },
    "language_info": {
      "codemirror_mode": {
        "name": "ipython",
        "version": 3
      },
      "file_extension": ".py",
      "mimetype": "text/x-python",
      "name": "python",
      "nbconvert_exporter": "python",
      "pygments_lexer": "ipython3",
      "version": "3.7.6"
    },
    "pycharm": {
      "stem_cell": {
        "cell_type": "raw",
        "metadata": {
          "collapsed": false
        },
        "source": []
      }
    }
  },
  "cells": [
    {
      "cell_type": "markdown",
      "metadata": {
        "id": "view-in-github",
        "colab_type": "text"
      },
      "source": [
        "<a href=\"https://colab.research.google.com/github/kovaciardey/ce888-repo/blob/main/Lab2/bootstrap.ipynb\" target=\"_parent\"><img src=\"https://colab.research.google.com/assets/colab-badge.svg\" alt=\"Open In Colab\"/></a>"
      ]
    },
    {
      "cell_type": "markdown",
      "metadata": {
        "id": "nCi_99yMYIb1"
      },
      "source": [
        "In this notebook you'll create your own bootstrap function following the bootstrap algorithm (check the lecture notes!)"
      ]
    },
    {
      "cell_type": "code",
      "metadata": {
        "id": "LY5zujI2YC37"
      },
      "source": [
        "import matplotlib\n",
        "import pandas as pd\n",
        "import seaborn as sns\n",
        "import numpy as np\n",
        "\n"
      ],
      "execution_count": null,
      "outputs": []
    },
    {
      "cell_type": "code",
      "metadata": {
        "id": "Eqkwj4SMY38t"
      },
      "source": [
        "# Load the data\n",
        "df = pd.read_csv('https://raw.githubusercontent.com/albanda/CE888/master/lab2%20-%20bootstrap/customers.csv')\n",
        "data = df.values.T[1]"
      ],
      "execution_count": null,
      "outputs": []
    },
    {
      "cell_type": "code",
      "metadata": {
        "id": "Gxvc_bScYC4H"
      },
      "source": [
        "# Checking the notes from the lecture, create here your own bootstrap function:\n",
        "# 1. Sample from the input array x to create an array of samples of shape (n_bootstraps, sample_size)\n",
        "# Hint: Check the function random.choice() on Numpy\n",
        "# 2. Calculate and save the mean of the array (this is \"data_mean\" that is returned by the function)\n",
        "# 3. Calculate the mean from each bootstrap (i.e., row) and store it.\n",
        "# (This should be an array of n_bootstraps values)\n",
        "# 4. Calculate the lower and upper bounds for a 95% CI (hint: check the percentile function on Numpy)\n",
        "# 5. Return data_mean, and the lower and upper bounds of your interval\n",
        "def bootstrap_mean(x, sample_size, n_bootstraps):\n",
        "    # <---INSERT YOUR CODE HERE--->\n",
        "    bootstrap_means = np.empty((n_bootstraps))\n",
        "    data_array = np.empty((n_bootstraps, sample_size))\n",
        "\n",
        "    for i in range(n_bootstraps):\n",
        "        data_array[i] = np.random.choice(x, size=sample_size)\n",
        "        bootstrap_means[i] = np.mean(data_array[i])\n",
        "\n",
        "    bootstrap_means.sort()\n",
        "\n",
        "    data_mean = np.mean(data_array)\n",
        "    lower, upper = np.percentile(bootstrap_means, 2.5), np.percentile(bootstrap_means, 97.5)\n",
        "\n",
        "    return data_mean, lower, upper\n",
        "\n",
        "\n",
        "# for i in range(100, 50000, 1000):\n",
        "#     boot = bootstrap_mean(data, data.shape[0], i)"
      ],
      "execution_count": null,
      "outputs": []
    },
    {
      "cell_type": "code",
      "metadata": {
        "id": "AN7sEOcMYC4P"
      },
      "source": [
        "# Call your bootstrap function and plot the results\n",
        "\n",
        "iterations = 10000\n",
        "# iterations = 50000\n",
        "\n",
        "boots = []\n",
        "for i in range(100, iterations, 250):\n",
        "    boot = bootstrap_mean(data, data.shape[0], i)\n",
        "\n",
        "    print(boot)\n",
        "\n",
        "    boots.append([i, boot[0], \"mean\"])\n",
        "    boots.append([i, boot[1], \"lower\"])\n",
        "    boots.append([i, boot[2], \"upper\"])\n",
        "\n",
        "df_boot = pd.DataFrame(boots, columns=['Bootstrap Iterations', 'Mean', \"Value\"])\n",
        "sns_plot = sns.lmplot(df_boot.columns[0], df_boot.columns[1], data=df_boot, fit_reg=False, hue=\"Value\")\n",
        "\n",
        "sns_plot.axes[0, 0].set_ylim(0,)\n",
        "sns_plot.axes[0, 0].set_xlim(0, iterations)\n"
      ],
      "execution_count": null,
      "outputs": []
    },
    {
      "cell_type": "markdown",
      "metadata": {
        "id": "MjtP4e2_YC4V"
      },
      "source": [
        "\n",
        "Now, modify the bootstrap function you created above so that you can pass your desired confidence interval as a parameter.\n",
        "\n"
      ]
    },
    {
      "cell_type": "code",
      "metadata": {
        "id": "3K9j0FuGYhHs"
      },
      "source": [
        "def bootstrap_mean_ci(sample, sample_size, n_bootstraps, ci):\n",
        "    # <---INSERT YOUR CODE HERE--->\n",
        "    bootstrap_means = np.empty((n_bootstraps))\n",
        "    data_array = np.empty((n_bootstraps, sample_size))\n",
        "\n",
        "    for i in range(n_bootstraps):\n",
        "        data_array[i] = np.random.choice(sample, size=sample_size)\n",
        "        bootstrap_means[i] = np.mean(data_array[i])\n",
        "\n",
        "    lower_ci_percentile = (100 - ci) / 2.0\n",
        "    upper_ci_percentile = 100 - lower_ci_percentile\n",
        "\n",
        "    bootstrap_means.sort()\n",
        "\n",
        "    data_mean = np.mean(data_array)\n",
        "    lower, upper = np.percentile(bootstrap_means, lower_ci_percentile), np.percentile(bootstrap_means, upper_ci_percentile)\n",
        "\n",
        "    return data_mean, lower, upper\n",
        "\n",
        "def bootstrap_standard_deviation_ci(sample, sample_size, n_bootstraps, ci):\n",
        "    # <---INSERT YOUR CODE HERE--->\n",
        "    bootstrap_means = np.empty((n_bootstraps))\n",
        "    data_array = np.empty((n_bootstraps, sample_size))\n",
        "\n",
        "    for i in range(n_bootstraps):\n",
        "        data_array[i] = np.random.choice(sample, size=sample_size)\n",
        "        bootstrap_means[i] = np.std(data_array[i])\n",
        "\n",
        "    lower_ci_percentile = (100 - ci) / 2.0\n",
        "    upper_ci_percentile = 100 - lower_ci_percentile\n",
        "\n",
        "    bootstrap_means.sort()\n",
        "\n",
        "    data_mean = np.mean(data_array)\n",
        "    lower, upper = np.percentile(bootstrap_means, lower_ci_percentile), np.percentile(bootstrap_means, upper_ci_percentile)\n",
        "\n",
        "    return data_mean, lower, upper"
      ],
      "execution_count": null,
      "outputs": []
    },
    {
      "cell_type": "code",
      "metadata": {
        "id": "uDnjq08GYl-C"
      },
      "source": [
        "boots = []\n",
        "for i in range(100, 10000, 250):\n",
        "    # boot = bootstrap_mean_ci(data, data.shape[0], i, 90)\n",
        "    boot = bootstrap_standard_deviation_ci(data, data.shape[0], i, 90)\n",
        "\n",
        "    print(boot)\n",
        "\n",
        "    boots.append([i, boot[0], \"mean\"])\n",
        "    boots.append([i, boot[1], \"lower\"])\n",
        "    boots.append([i, boot[2], \"upper\"])\n",
        "\n",
        "df_boot = pd.DataFrame(boots, columns=['Boostrap Iterations', 'Mean', \"Value\"])\n",
        "sns_plot = sns.lmplot(df_boot.columns[0], df_boot.columns[1], data=df_boot, fit_reg=False, hue=\"Value\")\n",
        "\n",
        "sns_plot.axes[0, 0].set_ylim(0,)\n",
        "sns_plot.axes[0, 0].set_xlim(0, 10000)\n",
        "\n",
        "#sns_plot.savefig(\"bootstrap_confidence_80.pdf\", bbox_inches='tight')\n"
      ],
      "execution_count": null,
      "outputs": []
    },
    {
      "cell_type": "markdown",
      "metadata": {
        "id": "qjNgXW6wdd7r"
      },
      "source": [
        "# Vehicles dataset\n",
        "\n",
        "Now let's work on a different dataset, which is stored in the vehicles.csv file.\n"
      ]
    },
    {
      "cell_type": "code",
      "metadata": {
        "id": "avWv4ipFdpka"
      },
      "source": [
        "# Load and visualise the vehicles dataset\n",
        "# To load the dataset: https://neptune.ai/blog/google-colab-dealing-with-files (check section \"Load individual files directly from GitHub\")\n",
        "\n",
        "\n",
        "# Note that the current and new fleets are in different columns and have different lengths, so bear this in mind when you're plotting.\n",
        "# You can create separate scatterplots for the two fleets, as you would with the histograms, \n",
        "# or plot them both in one plot (but not one against the other).\n",
        "# <---INSERT YOUR CODE HERE--->\n",
        "# Note: you can add more cells as needed to organise your code and your plots\n",
        "\n",
        "vehicles_df = pd.read_csv('https://raw.githubusercontent.com/albanda/CE888/master/lab2%20-%20bootstrap/vehicles.csv')\n",
        "cf_data = vehicles_df[\"Current fleet\"]\n",
        "nf_data = vehicles_df[\"New Fleet\"]\n",
        "\n",
        "nf_data = nf_data[np.logical_not(np.isnan(nf_data))]\n",
        "\n",
        "# print(cf_data)\n",
        "# print(nf_data)\n",
        "\n",
        "sns.displot(cf_data, bins=20, kde=False, rug=True)\n",
        "sns.displot(nf_data, bins=20, kde=False, rug=True)\n"
      ],
      "execution_count": null,
      "outputs": []
    },
    {
      "cell_type": "markdown",
      "metadata": {
        "id": "B5d0tXDpIEj8"
      },
      "source": [
        "## Compare the two fleets\n",
        "\n",
        "The business analysts come up a comparison algorithm that requires the upper and lower bounds for the mean in order to say which fleet is better.\n",
        "1. Calculate the mean of both samples.\n",
        "2. Using the bootstrap function that you created:\n",
        "    - Construct the 95% CI of the mean of the current fleet.\n",
        "    - Construct the 95% CI of the mean of the new fleet.\n",
        "    - Are they comparable? (i.e., is one better than the other?) -- you can do this with a permutation test (check the lecture notes!)"
      ]
    },
    {
      "cell_type": "code",
      "metadata": {
        "id": "po4mp6zRHC0m"
      },
      "source": [
        "# <---INSERT YOUR CODE HERE--->\n",
        "boots = []\n",
        "for i in range(100, 10000, 250):\n",
        "    boot = bootstrap_mean_ci(cf_data, cf_data.shape[0], i, 85)\n",
        "\n",
        "    print(boot)\n",
        "\n",
        "    boots.append([i, boot[0], \"mean\"])\n",
        "    boots.append([i, boot[1], \"lower\"])\n",
        "    boots.append([i, boot[2], \"upper\"])\n",
        "\n",
        "df_boot = pd.DataFrame(boots, columns=['Boostrap Iterations', 'Mean', \"Value\"])\n",
        "sns_plot = sns.lmplot(df_boot.columns[0], df_boot.columns[1], data=df_boot, fit_reg=False, hue=\"Value\")\n",
        "\n",
        "sns_plot.axes[0, 0].set_ylim(0,)\n",
        "sns_plot.axes[0, 0].set_xlim(0, 10000)"
      ],
      "execution_count": null,
      "outputs": []
    },
    {
      "cell_type": "code",
      "metadata": {
        "id": "kV-rV26fXJwF"
      },
      "source": [
        "boots = []\n",
        "for i in range(100, 10000, 250):\n",
        "    # boot = bootstrap_mean_ci(nf_data, nf_data.shape[0], i, 95)\n",
        "    boot = bootstrap_standard_deviation_ci(nf_data, nf_data.shape[0], i, 99)\n",
        "\n",
        "    print(boot)\n",
        "\n",
        "    boots.append([i, boot[0], \"mean\"])\n",
        "    boots.append([i, boot[1], \"lower\"])\n",
        "    boots.append([i, boot[2], \"upper\"])\n",
        "\n",
        "df_boot = pd.DataFrame(boots, columns=['Boostrap Iterations', 'Mean', \"Value\"])\n",
        "sns_plot = sns.lmplot(df_boot.columns[0], df_boot.columns[1], data=df_boot, fit_reg=False, hue=\"Value\")\n",
        "\n",
        "sns_plot.axes[0, 0].set_ylim(0,)\n",
        "sns_plot.axes[0, 0].set_xlim(0, 10000)"
      ],
      "execution_count": null,
      "outputs": []
    },
    {
      "cell_type": "code",
      "metadata": {
        "id": "Fz2GcyINWZ_K"
      },
      "source": [
        "boots = []\n",
        "for i in range(100, 10000, 500):\n",
        "    boot = bootstrap_standard_deviation_ci(cf_data, nf_data.shape[0], i, 95)\n",
        "\n",
        "    print(boot)\n",
        "\n",
        "    boots.append([i, boot[0], \"mean\"])\n",
        "    boots.append([i, boot[1], \"lower\"])\n",
        "    boots.append([i, boot[2], \"upper\"])\n",
        "\n",
        "df_boot = pd.DataFrame(boots, columns=['Boostrap Iterations', 'Mean', \"Value\"])\n",
        "sns_plot = sns.lmplot(df_boot.columns[0], df_boot.columns[1], data=df_boot, fit_reg=False, hue=\"Value\")\n",
        "\n",
        "sns_plot.axes[0, 0].set_ylim(0,)\n",
        "sns_plot.axes[0, 0].set_xlim(0, 10000)"
      ],
      "execution_count": null,
      "outputs": []
    },
    {
      "cell_type": "code",
      "metadata": {
        "colab": {
          "base_uri": "https://localhost:8080/"
        },
        "id": "MkxvDZG4HC0n",
        "outputId": "5e1176a8-a8fb-4b6d-8eae-38ecc15a539f"
      },
      "source": [
        "# Create your own function for a permutation test here (you will need it for the lab quiz!):\n",
        "\n",
        "def permut_test(sample1, sample2, n_permutations):\n",
        "    \"\"\"\n",
        "    sample1: 1D array\n",
        "    sample2: 1D array (note that the size of the two arrays can be different)\n",
        "    n_permutations: number of permutations to calculate the p-value\n",
        "    \"\"\"\n",
        "    arr1_size = len(sample1)\n",
        "    arr2_size = len(sample2)\n",
        "\n",
        "    old = sample1\n",
        "    new = sample2\n",
        "\n",
        "    # calculate observed value of the test statistic\n",
        "    old_mean = np.mean(old)\n",
        "    new_mean = np.mean(new)\n",
        "\n",
        "    tObs = new_mean - old_mean\n",
        "\n",
        "    print(\"tobs = \", tObs)\n",
        "\n",
        "    counter = 0\n",
        "    for i in range(n_permutations):\n",
        "        concat = np.concatenate((old, new))\n",
        "        perm = np.random.permutation(concat)\n",
        "\n",
        "        pold = perm[:arr1_size]\n",
        "        pnew = perm[arr1_size:]\n",
        "\n",
        "        # print(perm)\n",
        "        # print(pold)\n",
        "        # print(pnew)\n",
        "\n",
        "        tPerm = np.mean(pnew) - np.mean(pold)\n",
        "        # print(\"tPerm = \", tPerm)\n",
        "\n",
        "        if tPerm > tObs:\n",
        "            counter += 1\n",
        "\n",
        "    print(counter)\n",
        "    pvalue = counter / n_permutations \n",
        "\n",
        "    return pvalue\n",
        "\n",
        "\n",
        "print(\"p value = \", permut_test(cf_data, nf_data, 30000))\n"
      ],
      "execution_count": 30,
      "outputs": [
        {
          "output_type": "stream",
          "text": [
            "tobs =  10.336434344974837\n",
            "0\n",
            "p value =  0.0\n"
          ],
          "name": "stdout"
        }
      ]
    },
    {
      "cell_type": "code",
      "metadata": {
        "colab": {
          "base_uri": "https://localhost:8080/"
        },
        "id": "neObzkVeeJaa",
        "outputId": "aaf80f46-6dda-436b-e01e-2494d10afb06"
      },
      "source": [
        "dem_share_PA = [60.08, 40.64, 36.07, 41.21, 31.04, 43.78, 44.08, 46.85, 44.71, 46.15, 63.10, 52.20, 43.18, 40.24, 39.92, 47.87, 37.77, 40.11, 49.85, 48.61, 38.62, 54.25, 34.84, 47.75, 43.82, 55.97, 58.23, 42.97, 42.38, 36.11, 37.53, 42.65, 50.96, 47.43, 56.24, 45.60, 46.39, 35.22, 48.56, 32.97, 57.88, 36.05, 37.72, 50.36, 32.12, 41.55, 54.66, 57.81, 54.58, 32.88, 54.37, 40.45, 47.61, 60.49, 43.11, 27.32, 44.03, 33.56, 37.26, 54.64, 43.12, 25.34, 49.79, 83.56, 40.09, 60.81, 49.81]\n",
        "dem_share_OH = [56.94, 50.46, 65.99, 45.88, 42.23, 45.26, 57.01, 53.61, 59.10, 61.48, 43.43, 44.69, 54.59, 48.36, 45.89, 48.62, 43.92, 38.23, 28.79, 63.57, 38.07, 40.18, 43.05, 41.56, 42.49, 36.06, 52.76, 46.07, 39.43, 39.26, 47.47, 27.92, 38.01, 45.45, 29.07, 28.94, 51.28, 50.10, 39.84, 36.43, 35.71, 31.47, 47.01, 40.10, 48.76, 31.56, 39.86, 45.31, 35.47, 51.38, 46.33, 48.73, 41.77, 41.32, 48.46, 53.14, 34.01, 54.74, 40.67, 38.96, 46.29, 38.25, 6.80, 31.75, 46.33, 44.90, 33.57, 38.10, 39.67, 40.47, 49.44, 37.62, 36.71, 46.73, 42.20, 53.16, 52.40, 58.36, 68.02, 38.53, 34.58, 69.64, 60.50, 53.53, 36.54, 49.58, 41.97, 38.11]\n",
        "\n",
        "print(\"PA dem states count: \", len(dem_share_PA))\n",
        "print(\"OH dem states count: \", len(dem_share_OH))\n"
      ],
      "execution_count": 31,
      "outputs": [
        {
          "output_type": "stream",
          "text": [
            "PA dem states count:  67\n",
            "OH dem states count:  88\n"
          ],
          "name": "stdout"
        }
      ]
    },
    {
      "cell_type": "code",
      "metadata": {
        "id": "yEtnzWBnfjUM"
      },
      "source": [
        "# PA democratic votes bootstraps\n",
        "\n",
        "boots = []\n",
        "for i in range(100, 20000, 250):\n",
        "    boot = bootstrap_mean_ci(dem_share_PA, len(dem_share_PA), i, 95)\n",
        "\n",
        "    print(boot)\n",
        "\n",
        "    boots.append([i, boot[0], \"mean\"])\n",
        "    boots.append([i, boot[1], \"lower\"])\n",
        "    boots.append([i, boot[2], \"upper\"])\n",
        "\n",
        "df_boot = pd.DataFrame(boots, columns=['Boostrap Iterations', 'Mean', \"Value\"])\n",
        "sns_plot = sns.lmplot(df_boot.columns[0], df_boot.columns[1], data=df_boot, fit_reg=False, hue=\"Value\")\n",
        "\n",
        "sns_plot.axes[0, 0].set_ylim(0,)\n",
        "sns_plot.axes[0, 0].set_xlim(0, 10000)"
      ],
      "execution_count": null,
      "outputs": []
    },
    {
      "cell_type": "code",
      "metadata": {
        "id": "AsglYnjtgBQP"
      },
      "source": [
        "# OH democratic votes bootstraps\n",
        "\n",
        "boots = []\n",
        "for i in range(100, 20000, 250):\n",
        "    boot = bootstrap_mean_ci(dem_share_OH, len(dem_share_OH), i, 95)\n",
        "\n",
        "    print(boot)\n",
        "\n",
        "    boots.append([i, boot[0], \"mean\"])\n",
        "    boots.append([i, boot[1], \"lower\"])\n",
        "    boots.append([i, boot[2], \"upper\"])\n",
        "\n",
        "df_boot = pd.DataFrame(boots, columns=['Boostrap Iterations', 'Mean', \"Value\"])\n",
        "sns_plot = sns.lmplot(df_boot.columns[0], df_boot.columns[1], data=df_boot, fit_reg=False, hue=\"Value\")\n",
        "\n",
        "sns_plot.axes[0, 0].set_ylim(0,)\n",
        "sns_plot.axes[0, 0].set_xlim(0, 10000)"
      ],
      "execution_count": null,
      "outputs": []
    },
    {
      "cell_type": "code",
      "metadata": {
        "colab": {
          "base_uri": "https://localhost:8080/"
        },
        "id": "yJdgCcP7gPTR",
        "outputId": "5b1d37f6-90a4-45df-9568-0b0a3c50b679"
      },
      "source": [
        "print(\"voter p value = \", permut_test(dem_share_OH, dem_share_PA, 10000))"
      ],
      "execution_count": 34,
      "outputs": [
        {
          "output_type": "stream",
          "text": [
            "tobs =  1.1582360922659447\n",
            "2401\n",
            "voter p value =  0.2401\n"
          ],
          "name": "stdout"
        }
      ]
    },
    {
      "cell_type": "code",
      "metadata": {
        "id": "jvsBL7c5gkls"
      },
      "source": [
        "print(\"voter p value = \", permut_test(dem_share_PA, dem_share_OH, 10000))"
      ],
      "execution_count": null,
      "outputs": []
    }
  ]
}