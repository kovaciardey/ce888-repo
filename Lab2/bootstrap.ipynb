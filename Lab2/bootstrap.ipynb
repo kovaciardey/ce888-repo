{
  "nbformat": 4,
  "nbformat_minor": 0,
  "metadata": {
    "colab": {
      "name": "Lab2_bootstrap.ipynb",
      "provenance": [],
      "collapsed_sections": [],
      "include_colab_link": true
    },
    "kernelspec": {
      "display_name": "Python 3",
      "language": "python",
      "name": "python3"
    },
    "language_info": {
      "codemirror_mode": {
        "name": "ipython",
        "version": 3
      },
      "file_extension": ".py",
      "mimetype": "text/x-python",
      "name": "python",
      "nbconvert_exporter": "python",
      "pygments_lexer": "ipython3",
      "version": "3.7.6"
    },
    "pycharm": {
      "stem_cell": {
        "cell_type": "raw",
        "metadata": {
          "collapsed": false
        },
        "source": []
      }
    }
  },
  "cells": [
    {
      "cell_type": "markdown",
      "metadata": {
        "id": "view-in-github",
        "colab_type": "text"
      },
      "source": [
        "<a href=\"https://colab.research.google.com/github/kovaciardey/ce888-repo/blob/main/Lab2/bootstrap.ipynb\" target=\"_parent\"><img src=\"https://colab.research.google.com/assets/colab-badge.svg\" alt=\"Open In Colab\"/></a>"
      ]
    },
    {
      "cell_type": "markdown",
      "metadata": {
        "id": "nCi_99yMYIb1"
      },
      "source": [
        "In this notebook you'll create your own bootstrap function following the bootstrap algorithm (check the lecture notes!)"
      ]
    },
    {
      "cell_type": "code",
      "metadata": {
        "id": "LY5zujI2YC37",
        "pycharm": {
          "name": "#%%# Imports\n"
        }
      },
      "source": [
        "import matplotlib\n",
        "import pandas as pd\n",
        "import seaborn as sns\n",
        "import numpy as np\n",
        "\n"
      ],
      "execution_count": null,
      "outputs": []
    },
    {
      "cell_type": "code",
      "metadata": {
        "id": "Eqkwj4SMY38t"
      },
      "source": [
        "# Load the data\n",
        "df = pd.read_csv('https://raw.githubusercontent.com/albanda/CE888/master/lab2%20-%20bootstrap/customers.csv')\n",
        "data = df.values.T[1]"
      ],
      "execution_count": null,
      "outputs": []
    },
    {
      "cell_type": "code",
      "metadata": {
        "id": "Gxvc_bScYC4H",
        "pycharm": {
          "name": "#%%\n"
        }
      },
      "source": [
        "# Checking the notes from the lecture, create here your own bootstrap function:\n",
        "# 1. Sample from the input array x to create an array of samples of shape (n_bootstraps, sample_size)\n",
        "# Hint: Check the function random.choice() on Numpy\n",
        "# 2. Calculate and save the mean of the array (this is \"data_mean\" that is returned by the function)\n",
        "# 3. Calculate the mean from each bootstrap (i.e., row) and store it.\n",
        "# (This should be an array of n_bootstraps values)\n",
        "# 4. Calculate the lower and upper bounds for a 95% CI (hint: check the percentile function on Numpy)\n",
        "# 5. Return data_mean, and the lower and upper bounds of your interval\n",
        "def bootstrap_mean(x, sample_size, n_bootstraps):\n",
        "    # <---INSERT YOUR CODE HERE--->\n",
        "    bootstrap_means = np.empty((n_bootstraps))\n",
        "    data_array = np.empty((n_bootstraps, sample_size))\n",
        "\n",
        "    for i in range(n_bootstraps):\n",
        "        data_array[i] = np.random.choice(x, size=sample_size)\n",
        "        bootstrap_means[i] = np.mean(data_array[i])\n",
        "\n",
        "    data_mean = np.mean(data_array)\n",
        "    lower, upper = np.percentile(bootstrap_means, 2.5), np.percentile(bootstrap_means, 97.5)\n",
        "\n",
        "    return data_mean, lower, upper\n",
        "\n",
        "\n",
        "# for i in range(100, 50000, 1000):\n",
        "#     boot = bootstrap_mean(data, data.shape[0], i)"
      ],
      "execution_count": null,
      "outputs": []
    },
    {
      "cell_type": "code",
      "metadata": {
        "id": "AN7sEOcMYC4P",
        "pycharm": {
          "name": "#%%\n"
        }
      },
      "source": [
        "# Call your bootstrap function and plot the results\n",
        "\n",
        "iterations = 10000\n",
        "# iterations = 50000\n",
        "\n",
        "boots = []\n",
        "for i in range(100, iterations, 1000):\n",
        "    boot = bootstrap_mean(data, data.shape[0], i)\n",
        "\n",
        "    print(boot)\n",
        "\n",
        "    boots.append([i, boot[0], \"mean\"])\n",
        "    boots.append([i, boot[1], \"lower\"])\n",
        "    boots.append([i, boot[2], \"upper\"])\n",
        "\n",
        "df_boot = pd.DataFrame(boots, columns=['Bootstrap Iterations', 'Mean', \"Value\"])\n",
        "sns_plot = sns.lmplot(df_boot.columns[0], df_boot.columns[1], data=df_boot, fit_reg=False, hue=\"Value\")\n",
        "\n",
        "sns_plot.axes[0, 0].set_ylim(0,)\n",
        "sns_plot.axes[0, 0].set_xlim(0, iterations)\n"
      ],
      "execution_count": null,
      "outputs": []
    },
    {
      "cell_type": "markdown",
      "metadata": {
        "id": "MjtP4e2_YC4V"
      },
      "source": [
        "\n",
        "Now, modify the bootstrap function you created above so that you can pass your desired confidence interval as a parameter.\n",
        "\n"
      ]
    },
    {
      "cell_type": "code",
      "metadata": {
        "id": "3K9j0FuGYhHs"
      },
      "source": [
        "def bootstrap_mean_ci(sample, sample_size, n_bootstraps, ci):\n",
        "    # <---INSERT YOUR CODE HERE--->\n",
        "    bootstrap_means = np.empty((n_bootstraps))\n",
        "    data_array = np.empty((n_bootstraps, sample_size))\n",
        "\n",
        "    for i in range(n_bootstraps):\n",
        "        data_array[i] = np.random.choice(sample, size=sample_size)\n",
        "        bootstrap_means[i] = np.mean(data_array[i])\n",
        "\n",
        "    lower_ci_percentile = (100 - ci) / 2.0\n",
        "    upper_ci_percentile = 100 - lower_ci_percentile\n",
        "\n",
        "    data_mean = np.mean(data_array)\n",
        "    lower, upper = np.percentile(bootstrap_means, lower_ci_percentile), np.percentile(bootstrap_means, upper_ci_percentile)\n",
        "\n",
        "    return data_mean, lower, upper\n",
        "\n",
        "def bootstrap_standard_deviation_ci(sample, sample_size, n_bootstraps, ci):\n",
        "    # <---INSERT YOUR CODE HERE--->\n",
        "    bootstrap_means = np.empty((n_bootstraps))\n",
        "    data_array = np.empty((n_bootstraps, sample_size))\n",
        "\n",
        "    for i in range(n_bootstraps):\n",
        "        data_array[i] = np.random.choice(sample, size=sample_size)\n",
        "        bootstrap_means[i] = np.std(data_array[i])\n",
        "\n",
        "    lower_ci_percentile = (100 - ci) / 2.0\n",
        "    upper_ci_percentile = 100 - lower_ci_percentile\n",
        "\n",
        "    data_mean = np.mean(data_array)\n",
        "    lower, upper = np.percentile(bootstrap_means, lower_ci_percentile), np.percentile(bootstrap_means, upper_ci_percentile)\n",
        "\n",
        "    return data_mean, lower, upper"
      ],
      "execution_count": null,
      "outputs": []
    },
    {
      "cell_type": "code",
      "metadata": {
        "id": "uDnjq08GYl-C"
      },
      "source": [
        "boots = []\n",
        "for i in range(100, 10000, 1000):\n",
        "    # boot = bootstrap_mean_ci(data, data.shape[0], i, 80)\n",
        "    boot = bootstrap_standard_deviation_ci(data, data.shape[0], i, 85)\n",
        "\n",
        "    print(boot)\n",
        "\n",
        "    boots.append([i, boot[0], \"mean\"])\n",
        "    boots.append([i, boot[1], \"lower\"])\n",
        "    boots.append([i, boot[2], \"upper\"])\n",
        "\n",
        "df_boot = pd.DataFrame(boots, columns=['Boostrap Iterations', 'Mean', \"Value\"])\n",
        "sns_plot = sns.lmplot(df_boot.columns[0], df_boot.columns[1], data=df_boot, fit_reg=False, hue=\"Value\")\n",
        "\n",
        "sns_plot.axes[0, 0].set_ylim(0,)\n",
        "sns_plot.axes[0, 0].set_xlim(0, 10000)\n",
        "\n",
        "#sns_plot.savefig(\"bootstrap_confidence_80.pdf\", bbox_inches='tight')\n"
      ],
      "execution_count": null,
      "outputs": []
    },
    {
      "cell_type": "markdown",
      "metadata": {
        "id": "qjNgXW6wdd7r"
      },
      "source": [
        "# Vehicles dataset\n",
        "\n",
        "Now let's work on a different dataset, which is stored in the vehicles.csv file.\n"
      ]
    },
    {
      "cell_type": "code",
      "metadata": {
        "id": "avWv4ipFdpka"
      },
      "source": [
        "# Load and visualise the vehicles dataset\n",
        "# To load the dataset: https://neptune.ai/blog/google-colab-dealing-with-files (check section \"Load individual files directly from GitHub\")\n",
        "\n",
        "\n",
        "# Note that the current and new fleets are in different columns and have different lengths, so bear this in mind when you're plotting.\n",
        "# You can create separate scatterplots for the two fleets, as you would with the histograms, \n",
        "# or plot them both in one plot (but not one against the other).\n",
        "# <---INSERT YOUR CODE HERE--->\n",
        "# Note: you can add more cells as needed to organise your code and your plots\n",
        "\n",
        "vehicles_df = pd.read_csv('https://raw.githubusercontent.com/albanda/CE888/master/lab2%20-%20bootstrap/vehicles.csv')\n",
        "cf_data = vehicles_df[\"Current fleet\"]\n",
        "nf_data = vehicles_df[\"New Fleet\"]\n",
        "\n",
        "nf_data = nf_data[np.logical_not(np.isnan(nf_data))]\n",
        "\n",
        "# print(cf_data)\n",
        "# print(nf_data)\n",
        "\n",
        "sns.displot(cf_data, bins=20, kde=False, rug=True)\n",
        "sns.displot(nf_data, bins=20, kde=False, rug=True)\n"
      ],
      "execution_count": null,
      "outputs": []
    },
    {
      "cell_type": "markdown",
      "metadata": {
        "id": "B5d0tXDpIEj8"
      },
      "source": [
        "## Compare the two fleets\r\n",
        "\r\n",
        "The business analysts come up a comparison algorithm that requires the upper and lower bounds for the mean in order to say which fleet is better.\r\n",
        "1. Calculate the mean of both samples.\r\n",
        "2. Using the bootstrap function that you created:\r\n",
        "    - Construct the 95% CI of the mean of the current fleet.\r\n",
        "    - Construct the 95% CI of the mean of the new fleet.\r\n",
        "    - Are they comparable? (i.e., is one better than the other?) -- you can do this with a permutation test (check the lecture notes!)"
      ]
    },
    {
      "cell_type": "code",
      "metadata": {
        "id": "po4mp6zRHC0m"
      },
      "source": [
        "# <---INSERT YOUR CODE HERE--->\n",
        "boots = []\n",
        "for i in range(100, 10000, 1000):\n",
        "    boot = bootstrap_mean_ci(cf_data, cf_data.shape[0], i, 95)\n",
        "\n",
        "    print(boot)\n",
        "\n",
        "    boots.append([i, boot[0], \"mean\"])\n",
        "    boots.append([i, boot[1], \"lower\"])\n",
        "    boots.append([i, boot[2], \"upper\"])\n",
        "\n",
        "df_boot = pd.DataFrame(boots, columns=['Boostrap Iterations', 'Mean', \"Value\"])\n",
        "sns_plot = sns.lmplot(df_boot.columns[0], df_boot.columns[1], data=df_boot, fit_reg=False, hue=\"Value\")\n",
        "\n",
        "sns_plot.axes[0, 0].set_ylim(0,)\n",
        "sns_plot.axes[0, 0].set_xlim(0, 10000)"
      ],
      "execution_count": null,
      "outputs": []
    },
    {
      "cell_type": "code",
      "metadata": {
        "id": "kV-rV26fXJwF"
      },
      "source": [
        "boots = []\r\n",
        "for i in range(100, 10000, 1000):\r\n",
        "    boot = bootstrap_mean_ci(nf_data, nf_data.shape[0], i, 95)\r\n",
        "\r\n",
        "    print(boot)\r\n",
        "\r\n",
        "    boots.append([i, boot[0], \"mean\"])\r\n",
        "    boots.append([i, boot[1], \"lower\"])\r\n",
        "    boots.append([i, boot[2], \"upper\"])\r\n",
        "\r\n",
        "df_boot = pd.DataFrame(boots, columns=['Boostrap Iterations', 'Mean', \"Value\"])\r\n",
        "sns_plot = sns.lmplot(df_boot.columns[0], df_boot.columns[1], data=df_boot, fit_reg=False, hue=\"Value\")\r\n",
        "\r\n",
        "sns_plot.axes[0, 0].set_ylim(0,)\r\n",
        "sns_plot.axes[0, 0].set_xlim(0, 10000)"
      ],
      "execution_count": null,
      "outputs": []
    },
    {
      "cell_type": "code",
      "metadata": {
        "id": "MkxvDZG4HC0n",
        "colab": {
          "base_uri": "https://localhost:8080/"
        },
        "outputId": "3501f5b0-2e38-4705-baae-c24e39659c37"
      },
      "source": [
        "# Create your own function for a permutation test here (you will need it for the lab quiz!):\n",
        "\n",
        "def permut_test(sample1, sample2, n_permutations):\n",
        "    \"\"\"\n",
        "    sample1: 1D array\n",
        "    sample2: 1D array (note that the size of the two arrays can be different)\n",
        "    n_permutations: number of permutations to calculate the p-value\n",
        "    \"\"\"\n",
        "    arr1_size = len(sample1)\n",
        "    arr2_size = len(sample2)\n",
        "\n",
        "    old = sample1\n",
        "    new = sample2\n",
        "\n",
        "    # calculate observed value of the test statistic\n",
        "    old_mean = np.mean(old)\n",
        "    new_mean = np.mean(new)\n",
        "\n",
        "    tObs = new_mean - old_mean\n",
        "\n",
        "    print(\"tobs = \", tObs)\n",
        "\n",
        "    counter = 0\n",
        "    for i in range(n_permutations):\n",
        "        concat = np.concatenate((old, new))\n",
        "        perm = np.random.permutation(concat)\n",
        "\n",
        "        pold = perm[:arr1_size]\n",
        "        pnew = perm[arr1_size:]\n",
        "\n",
        "        # print(perm)\n",
        "        # print(pold)\n",
        "        # print(pnew)\n",
        "\n",
        "        tPerm = np.mean(pnew) - np.mean(pold)\n",
        "        print(\"tPerm = \", tPerm)\n",
        "\n",
        "        if tPerm > tObs:\n",
        "            counter += 1\n",
        "\n",
        "    print(counter)\n",
        "    pvalue = counter / n_permutations \n",
        "\n",
        "    return pvalue\n",
        "\n",
        "\n",
        "print(\"p value = \", permut_test(cf_data, nf_data, 10))\n"
      ],
      "execution_count": null,
      "outputs": [
        {
          "output_type": "stream",
          "text": [
            "tobs =  10.336434344974837\n",
            "tPerm =  0.39855625031772846\n",
            "tPerm =  0.46525341873824644\n",
            "tPerm =  -0.3684611865182248\n",
            "tPerm =  1.5657566976767825\n",
            "tPerm =  0.4986020029485019\n",
            "tPerm =  -1.4689644654567644\n",
            "tPerm =  1.3823394845203616\n",
            "tPerm =  1.9992882924101494\n",
            "tPerm =  1.1488993950485487\n",
            "tPerm =  -0.7186213207259442\n",
            "0\n",
            "p value =  0.0\n"
          ],
          "name": "stdout"
        }
      ]
    }
  ]
}